{
  "nbformat": 4,
  "nbformat_minor": 0,
  "metadata": {
    "colab": {
      "provenance": [],
      "authorship_tag": "ABX9TyPop49gFHPeH6WpXZFQIR8j",
      "include_colab_link": true
    },
    "kernelspec": {
      "name": "python3",
      "display_name": "Python 3"
    },
    "language_info": {
      "name": "python"
    }
  },
  "cells": [
    {
      "cell_type": "markdown",
      "metadata": {
        "id": "view-in-github",
        "colab_type": "text"
      },
      "source": [
        "<a href=\"https://colab.research.google.com/github/daksh0103-prog/DREAM-STORY-RAG/blob/main/Movie_Chatbot_Main_Project.ipynb\" target=\"_parent\"><img src=\"https://colab.research.google.com/assets/colab-badge.svg\" alt=\"Open In Colab\"/></a>"
      ]
    },
    {
      "cell_type": "code",
      "source": [
        "# pip install requests transformers\n",
        "\n",
        "import requests\n",
        "from transformers import pipeline\n",
        "\n",
        "# Load question-answering model\n",
        "qa_pipeline = pipeline(\"question-answering\", model=\"deepset/roberta-base-squad2\")\n",
        "\n",
        "# Your TMDb API Key\n",
        "TMDB_API_KEY = \"fd579f8ceb50584ca08c356d6e0416ea\"  # 🔑 Replace this with your real API key\n",
        "\n",
        "def search_movie_on_tmdb(query):\n",
        "    url = \"https://api.themoviedb.org/3/search/multi\"  # supports movie + tv\n",
        "    params = {\n",
        "        \"api_key\": TMDB_API_KEY,\n",
        "        \"query\": query\n",
        "    }\n",
        "    response = requests.get(url, params=params)\n",
        "    results = response.json().get(\"results\", [])\n",
        "\n",
        "    # Prefer TV or movie results\n",
        "    for result in results:\n",
        "        if result[\"media_type\"] in [\"movie\", \"tv\"]:\n",
        "            return result\n",
        "    return None\n",
        "\n",
        "def get_movie_details(media_type, media_id):\n",
        "    url = f\"https://api.themoviedb.org/3/{media_type}/{media_id}\"\n",
        "    params = {\n",
        "        \"api_key\": TMDB_API_KEY,\n",
        "        \"append_to_response\": \"credits,reviews\"\n",
        "    }\n",
        "    response = requests.get(url, params=params)\n",
        "    return response.json()\n",
        "\n",
        "def build_context(movie_data, media_type):\n",
        "    title = movie_data.get(\"title\") or movie_data.get(\"name\", \"\")\n",
        "    overview = movie_data.get(\"overview\", \"\")\n",
        "    director = \"\"\n",
        "    cast = []\n",
        "\n",
        "    if media_type == \"movie\":\n",
        "        for crew_member in movie_data.get(\"credits\", {}).get(\"crew\", []):\n",
        "            if crew_member[\"job\"] == \"Director\":\n",
        "                director = crew_member[\"name\"]\n",
        "                break\n",
        "    elif media_type == \"tv\":\n",
        "        # TV series don't always have \"Director\" in credits\n",
        "        director = movie_data.get(\"created_by\", [{}])[0].get(\"name\", \"\")\n",
        "\n",
        "    cast_list = movie_data.get(\"credits\", {}).get(\"cast\", [])[:5]\n",
        "    cast = [actor[\"name\"] for actor in cast_list]\n",
        "\n",
        "    context = f\"Title: {title}\\nOverview: {overview}\\nCreator/Director: {director}\\nCast: {', '.join(cast)}\"\n",
        "    return context\n",
        "\n",
        "def get_movie_answer(user_question):\n",
        "    try:\n",
        "        movie = search_movie_on_tmdb(user_question)\n",
        "        if not movie:\n",
        "            return \"I couldn't find that movie or show. Try another title.\"\n",
        "\n",
        "        media_type = movie[\"media_type\"]  # 'movie' or 'tv'\n",
        "        movie_details = get_movie_details(media_type, movie[\"id\"])\n",
        "        context = build_context(movie_details, media_type)\n",
        "\n",
        "        result = qa_pipeline(question=user_question, context=context)\n",
        "        return result[\"answer\"]\n",
        "\n",
        "    except Exception as e:\n",
        "        return f\"Error: {e}\"\n",
        "\n",
        "def chat():\n",
        "    print(\"🎬 MovieBot: Ask me about any movie or TV show! (Type 'exit' to quit)\")\n",
        "    while True:\n",
        "        user_input = input(\"You: \")\n",
        "        if user_input.lower() == \"exit\":\n",
        "            print(\"MovieBot: Goodbye! 🍿\")\n",
        "            break\n",
        "        response = get_movie_answer(user_input)\n",
        "        print(f\"MovieBot: {response}\")\n",
        "\n",
        "chat()\n"
      ],
      "metadata": {
        "colab": {
          "base_uri": "https://localhost:8080/"
        },
        "id": "tHaA1XYn5Upf",
        "outputId": "0824ae1d-34a7-4cde-d79a-2cc5026e6d8d"
      },
      "execution_count": 7,
      "outputs": [
        {
          "output_type": "stream",
          "name": "stderr",
          "text": [
            "Device set to use cpu\n"
          ]
        },
        {
          "output_type": "stream",
          "name": "stdout",
          "text": [
            "🎬 MovieBot: Ask me about any movie or TV show! (Type 'exit' to quit)\n",
            "You: Fast and Furious\n",
            "MovieBot: Fast and Furious\" (1924), a fast-paced silent comedy\n",
            "You: exit\n",
            "MovieBot: Goodbye! 🍿\n"
          ]
        }
      ]
    },
    {
      "cell_type": "code",
      "source": [],
      "metadata": {
        "id": "1Nrqx7Mv5WBU"
      },
      "execution_count": null,
      "outputs": []
    }
  ]
}